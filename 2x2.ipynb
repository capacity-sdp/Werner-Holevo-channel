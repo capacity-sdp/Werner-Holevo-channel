{
 "cells": [
  {
   "cell_type": "code",
   "execution_count": 31,
   "metadata": {},
   "outputs": [
    {
     "name": "stdout",
     "output_type": "stream",
     "text": [
      "Populating the interactive namespace from numpy and matplotlib\n"
     ]
    }
   ],
   "source": [
    "%pylab inline"
   ]
  },
  {
   "cell_type": "code",
   "execution_count": 32,
   "metadata": {},
   "outputs": [],
   "source": [
    "# For Google Colab use commands installing packages\n",
    "try:\n",
    "  import google.colab\n",
    "  IN_COLAB = True\n",
    "except:\n",
    "  IN_COLAB = False\n",
    "\n",
    "# Install PICOS and CVXOPT in Google Colab\n",
    "if IN_COLAB:\n",
    "    !pip install -q picos\n",
    "    !pip install -q cvxopt"
   ]
  },
  {
   "cell_type": "code",
   "execution_count": 33,
   "metadata": {},
   "outputs": [],
   "source": [
    "import picos as pic\n",
    "import cvxopt as cvx\n",
    "import Choi as helper"
   ]
  },
  {
   "cell_type": "code",
   "execution_count": 34,
   "metadata": {},
   "outputs": [
    {
     "name": "stdout",
     "output_type": "stream",
     "text": [
      "Solvers supported on this installation of PICOS: dict_keys(['cplex', 'cvxopt', 'ecos', 'glpk', 'gurobi', 'mosek', 'mskfsn', 'osqp', 'scip', 'smcp'])\n"
     ]
    }
   ],
   "source": [
    "print('Solvers supported on this installation of PICOS:', pic.solvers.all_solvers().keys())"
   ]
  },
  {
   "cell_type": "code",
   "execution_count": 35,
   "metadata": {},
   "outputs": [
    {
     "name": "stdout",
     "output_type": "stream",
     "text": [
      "Solvers available to PICOS on this machine : ['cvxopt', 'ecos', 'osqp']\n"
     ]
    }
   ],
   "source": [
    "print('Solvers available to PICOS on this machine :', pic.solvers.available_solvers())"
   ]
  },
  {
   "cell_type": "code",
   "execution_count": 36,
   "metadata": {},
   "outputs": [],
   "source": [
    "def PositiveSemidefiniteOperator(d):\n",
    "    mt = np.random.rand(d,d) + 1j*np.random.randn(d,d) #A = random C^(d) matrix\n",
    "    mt = np.dot(mt,mt.conj().T) # A := A . (A*)^T\n",
    "    return mt/np.trace(mt) # sig := A / tr(A), this is a positive semidefinite matrix"
   ]
  },
  {
   "cell_type": "markdown",
   "metadata": {},
   "source": [
    "We denote by $\\mathcal{P}(\\mathcal{H})$ the set of positive semidefinite operators acting on a Hilbert Space $\\mathcal{H}$.\n",
    "\n",
    "Let $\\mathcal{N}: A \\rightarrow B$ be a quantum channel with Choi operator $\\tau_{AB}^\\cal{N}$. \n",
    "\n",
    "Then\n",
    "  \n",
    "  \\begin{align}\n",
    "    \\begin{aligned}\n",
    "  \\mathcal{Q}(\\cal{N}) \\leq \\log \\varGamma (\\cal{N})\n",
    "    \\end{aligned}\n",
    "   \\end{align}\n",
    "   \n",
    "Where $\\varGamma (\\cal{N})$ is given by\n",
    "\n",
    "\n",
    "  \\begin{align}\n",
    "    \\begin{aligned}\n",
    "    \\text{minimize: }\\mu \\\\ \\text{subject to: } & \\mu \\in \\mathbb{R} \\\\ & V_{AB}, Y_{AB} \\in \\mathcal{P}(\\mathcal{H}_A \\otimes \\mathcal{H}_B) \\\\ & (V_{AB} - Y_{AB})^{T_B} \\geq \\tau_{AB}^\\cal{N} \\\\ & V_A + Y_A \\leq \\mu {\\mathbb{I}}_A\n",
    "    \\end{aligned}\n",
    "   \\end{align}\n",
    "\n",
    "We solve this semidefinite program using PICOS."
   ]
  },
  {
   "cell_type": "code",
   "execution_count": 37,
   "metadata": {},
   "outputs": [],
   "source": [
    "choi_mat = np.array([[1,0,0,0],[0,0.5,1,0],[0,1,0.5,0],[0,0,0,0.5]])"
   ]
  },
  {
   "cell_type": "code",
   "execution_count": 79,
   "metadata": {},
   "outputs": [
    {
     "name": "stdout",
     "output_type": "stream",
     "text": [
      "0.5849650140102338\n"
     ]
    }
   ],
   "source": [
    "import cvxpy as cp\n",
    "import numpy as np\n",
    "\n",
    "\n",
    "Vab = cp.Variable((4,4), symmetric=True)\n",
    "Yab = cp.Variable((4,4), symmetric=True)\n",
    "mu = cp.Variable()\n",
    "iMat = np.array([[1,0],[0,1]])\n",
    "\n",
    "Va = cp.partial_trace(Vab, (2,2), 1)\n",
    "Ya = cp.partial_trace(Yab, (2,2), 1)\n",
    "\n",
    "constraints = [Vab >> 0]\n",
    "constraints += [Yab >> 0]\n",
    "\n",
    "constraints += [cp.partial_transpose(Vab - Yab, (2,2), 1) >> choi_mat]\n",
    "\n",
    "constraints += [Va + Ya << mu * iMat]\n",
    "\n",
    "prob = cp.Problem(cp.Minimize(mu),\n",
    "                  constraints)\n",
    "prob.solve()\n",
    "\n",
    "print(log2(prob.value))"
   ]
  }
 ],
 "metadata": {
  "kernelspec": {
   "display_name": "Python 3 (ipykernel)",
   "language": "python",
   "name": "python3"
  },
  "language_info": {
   "codemirror_mode": {
    "name": "ipython",
    "version": 3
   },
   "file_extension": ".py",
   "mimetype": "text/x-python",
   "name": "python",
   "nbconvert_exporter": "python",
   "pygments_lexer": "ipython3",
   "version": "3.9.7"
  }
 },
 "nbformat": 4,
 "nbformat_minor": 2
}
